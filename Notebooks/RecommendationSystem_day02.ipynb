{
 "cells": [
  {
   "cell_type": "markdown",
   "metadata": {},
   "source": [
    "## Ngày 2: Thiết lập môi trường Python và Jupyter Notebook"
   ]
  },
  {
   "cell_type": "markdown",
   "metadata": {},
   "source": [
    "### Cài đặt Python\n",
    "- Cài đặt Python \n",
    "_ Cài đặt Anacondaa\n",
    "\n",
    "### Tạo môi trường ảo bằng Anaconda\n",
    "- Tạo môi trường ảo với conda\n",
    "- Tạo môi trường ảo với pip và virtualenv \n",
    "\n",
    "### Cài đặt Jupyter và các thư viện cần thiết\n",
    "\n",
    "### Làm quen với bộ dữ liệu MovieLens"
   ]
  }
 ],
 "metadata": {
  "kernelspec": {
   "display_name": ".venv",
   "language": "python",
   "name": "python3"
  },
  "language_info": {
   "codemirror_mode": {
    "name": "ipython",
    "version": 3
   },
   "file_extension": ".py",
   "mimetype": "text/x-python",
   "name": "python",
   "nbconvert_exporter": "python",
   "pygments_lexer": "ipython3",
   "version": "3.12.7"
  }
 },
 "nbformat": 4,
 "nbformat_minor": 2
}
