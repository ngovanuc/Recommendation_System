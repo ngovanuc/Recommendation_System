{
 "cells": [
  {
   "cell_type": "markdown",
   "metadata": {},
   "source": [
    "## Ngày 5: Content-based filtering (Lọc dựa trên Nội dung)\n",
    "\n",
    "Một trong những phương pháp “cơ bản” nhưng vô cùng mạnh mẽ trong hệ thống đề xuất – **Content-Based Filtering**. Đây là phương pháp gợi ý dựa trên nội dung, nghĩa là nếu bạn từng thích một món ăn nào đó, hệ thống sẽ gợi ý món ăn có thành phần, hương vị tương tự.\n",
    "\n",
    "\n",
    "### Lý thuyết\n",
    "- Khái niệm: Content-based filtering (CBF) tập trung vào các đặc trưng (features) của sản phẩm hay nội dung. Ví dụ, với phim, ta có thể dùng thể loại, đạo diễn, diễn viên, từ khóa mô tả, v.v. Nếu người dùng đã thích một bộ phim có đặc trưng \"Hành động\" và \"Phiêu lưu\", thì hệ thống sẽ tìm những bộ phim có đặc trưng tương tự để gợi ý.\n",
    "\n",
    "- Quy trình cơ bản:\n",
    "    + Trích xuất đặc trưng: Sử dụng các kĩ thuật như TF-IDF, CountVectorizer, Word2Vec,... để chuyển đổi mô tả sản phẩm thành vector số\n",
    "    + Đo lường đọ tương đồng: Thông thường, dùng cosine similarity để tính khoảng cách giữa các vector đặc trưng\n",
    "    + Gợi ý sản phẩm: dựa vào các độ tương đồng, đề xuất những sản phẩm có nội dung gần giống với sản phẩm mà người dùng đã thích\n",
    "\n",
    "- Ưu điểm:\n",
    "    + Giải quyết bài toán \"cold start\" cho các sản phẩm mới (nếu có thông tin mô tả)\n",
    "    + Không phụ thuộc vào phản hồi của người dùng khác, chỉ cần dựa vào nội dung sản phẩm\n",
    "\n",
    "- Hạn chế:\n",
    "    + Hạn chế trong việc khám phá các \"sự đa dạng\" nếu người dùng có sở thích phong phú\n",
    "    + Cần có mô tả hoặc đặc trung rõ ràng cho từng sản phẩm"
   ]
  },
  {
   "cell_type": "code",
   "execution_count": 1,
   "metadata": {},
   "outputs": [
    {
     "data": {
      "text/html": [
       "<div>\n",
       "<style scoped>\n",
       "    .dataframe tbody tr th:only-of-type {\n",
       "        vertical-align: middle;\n",
       "    }\n",
       "\n",
       "    .dataframe tbody tr th {\n",
       "        vertical-align: top;\n",
       "    }\n",
       "\n",
       "    .dataframe thead th {\n",
       "        text-align: right;\n",
       "    }\n",
       "</style>\n",
       "<table border=\"1\" class=\"dataframe\">\n",
       "  <thead>\n",
       "    <tr style=\"text-align: right;\">\n",
       "      <th></th>\n",
       "      <th>movieId</th>\n",
       "      <th>title</th>\n",
       "      <th>genres</th>\n",
       "    </tr>\n",
       "  </thead>\n",
       "  <tbody>\n",
       "    <tr>\n",
       "      <th>0</th>\n",
       "      <td>1</td>\n",
       "      <td>Toy Story (1995)</td>\n",
       "      <td>Adventure|Animation|Children|Comedy|Fantasy</td>\n",
       "    </tr>\n",
       "    <tr>\n",
       "      <th>1</th>\n",
       "      <td>2</td>\n",
       "      <td>Jumanji (1995)</td>\n",
       "      <td>Adventure|Children|Fantasy</td>\n",
       "    </tr>\n",
       "    <tr>\n",
       "      <th>2</th>\n",
       "      <td>3</td>\n",
       "      <td>Grumpier Old Men (1995)</td>\n",
       "      <td>Comedy|Romance</td>\n",
       "    </tr>\n",
       "    <tr>\n",
       "      <th>3</th>\n",
       "      <td>4</td>\n",
       "      <td>Waiting to Exhale (1995)</td>\n",
       "      <td>Comedy|Drama|Romance</td>\n",
       "    </tr>\n",
       "    <tr>\n",
       "      <th>4</th>\n",
       "      <td>5</td>\n",
       "      <td>Father of the Bride Part II (1995)</td>\n",
       "      <td>Comedy</td>\n",
       "    </tr>\n",
       "  </tbody>\n",
       "</table>\n",
       "</div>"
      ],
      "text/plain": [
       "   movieId  ...                                       genres\n",
       "0        1  ...  Adventure|Animation|Children|Comedy|Fantasy\n",
       "1        2  ...                   Adventure|Children|Fantasy\n",
       "2        3  ...                               Comedy|Romance\n",
       "3        4  ...                         Comedy|Drama|Romance\n",
       "4        5  ...                                       Comedy\n",
       "\n",
       "[5 rows x 3 columns]"
      ]
     },
     "execution_count": 1,
     "metadata": {},
     "output_type": "execute_result"
    }
   ],
   "source": [
    "# Content-based filtering dựa trên thể loại của phim\n",
    "# Tạo một CountVectorizer để chuyển đổi thể loại thành vector\n",
    "# Tính toán độ tương đồng giữa các phim bằng cosine similarity\n",
    "\n",
    "import pandas as pd\n",
    "from sklearn.feature_extraction.text import CountVectorizer\n",
    "from sklearn.metrics.pairwise import cosine_similarity\n",
    "\n",
    "# Đọc dữ liệu\n",
    "movies = pd.read_csv(\"../Datasets/MovieLens/movies.csv\")\n",
    "movies.head()"
   ]
  },
  {
   "cell_type": "code",
   "execution_count": 3,
   "metadata": {},
   "outputs": [
    {
     "name": "stdout",
     "output_type": "stream",
     "text": [
      "Ma trận cosine similarity: \n",
      "[[1.         0.77459667 0.31622777 ... 0.         0.         0.4472136 ]\n",
      " [0.77459667 1.         0.         ... 0.         0.         0.28867513]\n",
      " [0.31622777 0.         1.         ... 0.         0.         0.70710678]\n",
      " ...\n",
      " [0.         0.         0.         ... 1.         0.         0.        ]\n",
      " [0.         0.         0.         ... 0.         1.         0.        ]\n",
      " [0.4472136  0.28867513 0.70710678 ... 0.         0.         1.        ]]\n"
     ]
    },
    {
     "name": "stderr",
     "output_type": "stream",
     "text": [
      "e:\\LEARNING\\.venv\\Lib\\site-packages\\sklearn\\feature_extraction\\text.py:517: UserWarning: The parameter 'token_pattern' will not be used since 'tokenizer' is not None'\n",
      "  warnings.warn(\n"
     ]
    }
   ],
   "source": [
    "# Lấy 100 phim đầu tiên tránh tràn bộ nhớ\n",
    "small_movies = movies[:100]\n",
    "\n",
    "# Sử dụng CountVectorizer để chuyển dổi cột genres thành vector\n",
    "# Cũng lưu ý rằng chúng ta dùng tokenizer riêng để tác các thể loại bằng dấu \"|\"\n",
    "vectorizer = CountVectorizer(tokenizer=lambda x: x.split('|'))\n",
    "genre_matrix = vectorizer.fit_transform(small_movies['genres'])\n",
    "\n",
    "# Tính toán cosine similarity giữa các phim\n",
    "cosine_sim = cosine_similarity(genre_matrix, genre_matrix)\n",
    "print(f'Ma trận cosine similarity: \\n{cosine_sim}')\n",
    "\n",
    "# Giải thích:\n",
    "# CountVectorizer: Biến thể loại phim thành ma trận số, mỗi cột ứng với một thể loại\n",
    "# Cosine Similarity: Tính toán độ tương đồng giữa các vector của phim, giá trị càng cao cho thấy phim càng giống nhau về nội dung\n",
    "\n",
    "# Khi người dùng thích một phim nào đó, hệ thống có thể dựa vào ma trận cosine similarity để tìm ra các\n",
    "# phim có độ tương đồng cao với phim đó. Ví dụ nếu người dùng thích phim A thì hệ thống sẽ gợi ý các phim\n",
    "# có giá trị cosine similarity với phim AA\n",
    "\n",
    "# Hiểu rõ các đặc trưng của sản phẩm: Dữ liệu đầu vào càng chất, kết quả gợi ý càng chính xác. Hãy chú ý đến việc lựa chọn các đặc trưng phù hợp\n",
    "# Thử nghiệm với các vectorizer khác: TF-IDF có thể cho kết quả khác so với CountVectorizer, tùy vào bài toán cụ thể\n",
    "# Kết hợp kiến thức: Content-based filtering thường được kết hợp với Collaborative filtering trong hệ thống Hybrid để \n",
    "# khai thác tối đa thông tin từ cả nội dung và hành vi người dùng"
   ]
  },
  {
   "cell_type": "code",
   "execution_count": null,
   "metadata": {},
   "outputs": [
    {
     "name": "stdout",
     "output_type": "stream",
     "text": [
      "(100, 100)\n",
      "(100,)\n"
     ]
    }
   ],
   "source": [
    "# Giải thích cosine_sim\n",
    "# Hãy nhìn vào các giá trị sau đây:\n",
    "print(cosine_sim.shape)\n",
    "print(cosine_sim[13].shape) # 13 là ngẫu nhiên\n",
    "# => Từ kết quả in ra ta thấy rằng mỗi một bộ phim được tính toán độ tương đương với tất cả các phim còn lại"
   ]
  },
  {
   "cell_type": "code",
   "execution_count": 8,
   "metadata": {},
   "outputs": [
    {
     "name": "stdout",
     "output_type": "stream",
     "text": [
      "20\n",
      "(100, 17)\n"
     ]
    }
   ],
   "source": [
    "genres = movies['genres']\n",
    "genres_types = set()\n",
    "for genre in genres:\n",
    "    for g in genre.split('|'):\n",
    "        genres_types.add(g)\n",
    "\n",
    "print(len(genres_types)) # Total 20 genres\n",
    "print(genre_matrix.shape) # 100 films with 17 genres"
   ]
  },
  {
   "cell_type": "markdown",
   "metadata": {},
   "source": [
    "### Công thức Cosine Similarity\n",
    "cos(*Theta*) = (A.B)/(||A||.||B||)"
   ]
  },
  {
   "cell_type": "code",
   "execution_count": 10,
   "metadata": {},
   "outputs": [
    {
     "name": "stdout",
     "output_type": "stream",
     "text": [
      "0.33633639699815626\n"
     ]
    }
   ],
   "source": [
    "# Tính cosine similarity bằng numpy\n",
    "import numpy as np\n",
    "from numpy.linalg import norm\n",
    "\n",
    "A = np.array([1, 8])\n",
    "B = np.array([9, 2])\n",
    "\n",
    "cos_sim = np.dot(A, B)/(norm(A)*norm(B))\n",
    "print(cos_sim)"
   ]
  },
  {
   "cell_type": "code",
   "execution_count": 13,
   "metadata": {},
   "outputs": [
    {
     "name": "stdout",
     "output_type": "stream",
     "text": [
      "[[0.3363364]]\n"
     ]
    }
   ],
   "source": [
    "# Tính cosine similarity bằng sklearn\n",
    "from sklearn.metrics.pairwise import cosine_similarity\n",
    "cos_sim = cosine_similarity(A.reshape(1, -1), B.reshape(1, -1))\n",
    "print(cos_sim)\n",
    "print(cosine_similarity(A, B)) # => Error:\n",
    "# ValueError: Expected 2D array, got 1D array instead:\n",
    "# array=[1. 8.].\n",
    "# Reshape your data either using array.reshape(-1, 1) if your data has a single feature or array.reshape(1, -1) if it contains a single sample."
   ]
  },
  {
   "cell_type": "code",
   "execution_count": 15,
   "metadata": {},
   "outputs": [
    {
     "name": "stdout",
     "output_type": "stream",
     "text": [
      "    movieId                           title                             genres\n",
      "55       56  Kids of the Round Table (1995)  Adventure|Children|Comedy|Fantasy\n",
      "1         2                  Jumanji (1995)         Adventure|Children|Fantasy\n",
      "12       13                    Balto (1995)       Adventure|Animation|Children\n"
     ]
    }
   ],
   "source": [
    "# Tìm top 3, 5, 10 phim có sự tương đồng lớn nhất so với một phim tùy chọn bất kỳ\n",
    "def get_similar_movies(movie_id, top_n):\n",
    "    # Lấy index của phim trong bảng\n",
    "    movie_idx = small_movies[small_movies['movieId'] == movie_id].index[0]\n",
    "\n",
    "    # Lấy các giá trị cosine similarity giữa phim này và các phim khác\n",
    "    sim_scores = list(enumerate(cosine_sim[movie_idx]))\n",
    "\n",
    "    # Sắp xếp các phim theo độ tương đồng\n",
    "    sim_scores = sorted(sim_scores, key=lambda x: x[1], reverse=True)\n",
    "\n",
    "    # Lấy top N phim\n",
    "    top_sim_scores = sim_scores[1:top_n+1]\n",
    "\n",
    "    # Lấy thông tin của các phim\n",
    "    movie_indices = [i[0] for i in top_sim_scores]\n",
    "    return small_movies.iloc[movie_indices]\n",
    "\n",
    "# In ra top 3 phim tương đồng với phim có id = 1\n",
    "print(get_similar_movies(1, 3))"
   ]
  },
  {
   "cell_type": "code",
   "execution_count": 16,
   "metadata": {},
   "outputs": [
    {
     "name": "stdout",
     "output_type": "stream",
     "text": [
      "    movieId  ...                                       genres\n",
      "59       60  ...                   Adventure|Children|Fantasy\n",
      "55       56  ...            Adventure|Children|Comedy|Fantasy\n",
      "7         8  ...                           Adventure|Children\n",
      "0         1  ...  Adventure|Animation|Children|Comedy|Fantasy\n",
      "12       13  ...                 Adventure|Animation|Children\n",
      "\n",
      "[5 rows x 3 columns]\n"
     ]
    }
   ],
   "source": [
    "# In ra top 5 phim tương đồng với phim có id = 2\n",
    "print(get_similar_movies(2, 5))"
   ]
  },
  {
   "cell_type": "code",
   "execution_count": null,
   "metadata": {},
   "outputs": [
    {
     "name": "stdout",
     "output_type": "stream",
     "text": [
      "    movieId                               title                 genres\n",
      "6         7                      Sabrina (1995)         Comedy|Romance\n",
      "38       39                     Clueless (1995)         Comedy|Romance\n",
      "63       64                Two if by Sea (1996)         Comedy|Romance\n",
      "67       68  French Twist (Gazon maudit) (1995)         Comedy|Romance\n",
      "3         4            Waiting to Exhale (1995)   Comedy|Drama|Romance\n",
      "10       11      American President, The (1995)   Comedy|Drama|Romance\n",
      "51       52             Mighty Aphrodite (1995)   Comedy|Drama|Romance\n",
      "57       58   Postman, The (Postino, Il) (1994)   Comedy|Drama|Romance\n",
      "91       93          Vampire in Brooklyn (1995)  Comedy|Horror|Romance\n",
      "92       94              Beautiful Girls (1996)   Comedy|Drama|Romance\n"
     ]
    }
   ],
   "source": [
    "# In ra top 10 phim tương đồng với phim có id = 3\n",
    "print(get_similar_movies(3, 10))"
   ]
  },
  {
   "cell_type": "code",
   "execution_count": 24,
   "metadata": {},
   "outputs": [
    {
     "name": "stdout",
     "output_type": "stream",
     "text": [
      "    movieId                         title                          genres\n",
      "9        10              GoldenEye (1995)       Action|Adventure|Thriller\n",
      "14       15       Cutthroat Island (1995)        Action|Adventure|Romance\n",
      "32       33       Wings of Courage (1995)          Adventure|Romance|IMAX\n",
      "93       95           Broken Arrow (1996)       Action|Adventure|Thriller\n",
      "99      101          Bottle Rocket (1996)  Adventure|Comedy|Crime|Romance\n",
      "2         3       Grumpier Old Men (1995)                  Comedy|Romance\n",
      "6         7                Sabrina (1995)                  Comedy|Romance\n",
      "7         8           Tom and Huck (1995)              Adventure|Children\n",
      "16       17  Sense and Sensibility (1995)                   Drama|Romance\n",
      "24       25      Leaving Las Vegas (1995)                   Drama|Romance\n"
     ]
    }
   ],
   "source": [
    "# Một người có sở thích xem phim các thể loại như: Romance, Adventure, Science, Fiction, Thriller\n",
    "# Hãy tìm ra top 10 phim mà người đó có thể sẽ thích\n",
    "def recommend_movies(genres, top_n):\n",
    "    # Tạo một vector từ thể loại của người dùng\n",
    "    user_vector = vectorizer.transform([genres])\n",
    "\n",
    "    # Tính toán độ tương đồng giữa vector của người dùng và các phim\n",
    "    user_sim = cosine_similarity(user_vector, genre_matrix)\n",
    "\n",
    "    # Lấy top N phim\n",
    "    top_sim_scores = sorted(enumerate(user_sim[0]), key=lambda x: x[1], reverse=True)[:top_n]\n",
    "\n",
    "    # Lấy thông tin của các phim\n",
    "    movie_indices = [i[0] for i in top_sim_scores]\n",
    "    return small_movies.iloc[movie_indices]\n",
    "\n",
    "# In ra top 10 phim mà người dùng có thể sẽ thích\n",
    "print(recommend_movies('Romance|Adventure|Science Fiction|Thriller', 10))"
   ]
  }
 ],
 "metadata": {
  "kernelspec": {
   "display_name": ".venv",
   "language": "python",
   "name": "python3"
  },
  "language_info": {
   "codemirror_mode": {
    "name": "ipython",
    "version": 3
   },
   "file_extension": ".py",
   "mimetype": "text/x-python",
   "name": "python",
   "nbconvert_exporter": "python",
   "pygments_lexer": "ipython3",
   "version": "3.12.7"
  }
 },
 "nbformat": 4,
 "nbformat_minor": 2
}
