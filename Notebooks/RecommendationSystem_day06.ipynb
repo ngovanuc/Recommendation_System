{
 "cells": [
  {
   "cell_type": "markdown",
   "metadata": {},
   "source": [
    "## Ngày 6: Giới thiệu về Collaborative Filtering - Memory-based\n",
    "So sánh user-user, item-item similaritysimilarity, đơn giản với cosine similarity"
   ]
  },
  {
   "cell_type": "markdown",
   "metadata": {},
   "source": [
    "### Lý thuyết\n",
    "- Collaborative Filtering: dựa vào hành vi và đánh giá ngươi dùng để dự đoán sở thích của họ. Phương pháp này không cần đến thông tin mô tả của sản phẩm mà chỉ dựa vào trải nghiệm của người dùng.\n",
    "- Memory-based CF: Chúng ta sử dụng dữ liệu lịch sử (bộ nhớ) để tính đoán độ tương đồng giữa các người dùng hoặc giữa các sản phẩm. Có hai cách chính:\n",
    "    + User-User filtering: Tìm kiếm những người dùng tương đồng với người dùng hiện tại và dựa vào đánh giá của họ để gợi ý\n",
    "    + Item-Item filtering: Tìm kiếm các sản phẩm tương tự với sản phẩm mà người dùng đã thích và gợi ý các sản phẩm đó.\n",
    "\n",
    "### Ưu điểm\n",
    "- Đơn giản, dễ hiểu\n",
    "- Thường cho kết quả khá trực quan khi có dữ liệu người dùng đầy đủ\n",
    "\n",
    "### Hạn chế\n",
    "- Sparsity: Đôi khi dữ liệu đánh giá có thể rất thưa thớt\n",
    "- Scalability: Khi số lượng người dùng và sản phẩm tăng lớn, tính toán độ tương đồng có thể tốn kém\n",
    "- Cold start: Gặp khó khăn với người dùng mới hoặc sản phẩm mới vì không có dữ liệu lịch sử"
   ]
  },
  {
   "cell_type": "code",
   "execution_count": 2,
   "metadata": {},
   "outputs": [
    {
     "data": {
      "text/html": [
       "<div>\n",
       "<style scoped>\n",
       "    .dataframe tbody tr th:only-of-type {\n",
       "        vertical-align: middle;\n",
       "    }\n",
       "\n",
       "    .dataframe tbody tr th {\n",
       "        vertical-align: top;\n",
       "    }\n",
       "\n",
       "    .dataframe thead th {\n",
       "        text-align: right;\n",
       "    }\n",
       "</style>\n",
       "<table border=\"1\" class=\"dataframe\">\n",
       "  <thead>\n",
       "    <tr style=\"text-align: right;\">\n",
       "      <th></th>\n",
       "      <th>userId</th>\n",
       "      <th>movieId</th>\n",
       "      <th>rating</th>\n",
       "      <th>timestamp</th>\n",
       "    </tr>\n",
       "  </thead>\n",
       "  <tbody>\n",
       "    <tr>\n",
       "      <th>0</th>\n",
       "      <td>1</td>\n",
       "      <td>17</td>\n",
       "      <td>4.0</td>\n",
       "      <td>944249077</td>\n",
       "    </tr>\n",
       "    <tr>\n",
       "      <th>1</th>\n",
       "      <td>1</td>\n",
       "      <td>25</td>\n",
       "      <td>1.0</td>\n",
       "      <td>944250228</td>\n",
       "    </tr>\n",
       "    <tr>\n",
       "      <th>2</th>\n",
       "      <td>1</td>\n",
       "      <td>29</td>\n",
       "      <td>2.0</td>\n",
       "      <td>943230976</td>\n",
       "    </tr>\n",
       "    <tr>\n",
       "      <th>3</th>\n",
       "      <td>1</td>\n",
       "      <td>30</td>\n",
       "      <td>5.0</td>\n",
       "      <td>944249077</td>\n",
       "    </tr>\n",
       "    <tr>\n",
       "      <th>4</th>\n",
       "      <td>1</td>\n",
       "      <td>32</td>\n",
       "      <td>5.0</td>\n",
       "      <td>943228858</td>\n",
       "    </tr>\n",
       "  </tbody>\n",
       "</table>\n",
       "</div>"
      ],
      "text/plain": [
       "   userId  movieId  rating  timestamp\n",
       "0       1       17     4.0  944249077\n",
       "1       1       25     1.0  944250228\n",
       "2       1       29     2.0  943230976\n",
       "3       1       30     5.0  944249077\n",
       "4       1       32     5.0  943228858"
      ]
     },
     "execution_count": 2,
     "metadata": {},
     "output_type": "execute_result"
    }
   ],
   "source": [
    "import pandas as pd\n",
    "from sklearn.metrics.pairwise import cosine_similarity\n",
    "\n",
    "ratings = pd.read_csv(\"../Datasets/MovieLens/ratings.csv\")\n",
    "ratings.head()"
   ]
  },
  {
   "cell_type": "code",
   "execution_count": 25,
   "metadata": {},
   "outputs": [
    {
     "name": "stdout",
     "output_type": "stream",
     "text": [
      "    userId  movieId  rating  timestamp\n",
      "0        1       17     4.0  944249077\n",
      "1        1       25     1.0  944250228\n",
      "2        1       29     2.0  943230976\n",
      "3        1       30     5.0  944249077\n",
      "4        1       32     5.0  943228858\n",
      "..     ...      ...     ...        ...\n",
      "95       1     1944     2.0  943231120\n",
      "96       1     1952     4.0  944253272\n",
      "97       1     1960     1.0  943231236\n",
      "98       1     1961     1.0  944250182\n",
      "99       1     1965     3.0  943228697\n",
      "\n",
      "[100 rows x 4 columns]\n"
     ]
    }
   ],
   "source": [
    "import numpy as np\n",
    "# small_ratings = []\n",
    "# for x in range(0, 1000):\n",
    "    # small_ratings.append(ratings.iloc[np.random.randint(0, ratings.shape[0])])\n",
    "# small_ratings = pd.DataFrame(small_ratings)\n",
    "\n",
    "small_ratings = ratings.iloc[0: 100]\n",
    "print(small_ratings)\n",
    "small_ratings = small_ratings.pivot(index='userId', columns='movieId', values='rating')"
   ]
  },
  {
   "cell_type": "code",
   "execution_count": 26,
   "metadata": {},
   "outputs": [
    {
     "name": "stdout",
     "output_type": "stream",
     "text": [
      "[[1.]]\n"
     ]
    }
   ],
   "source": [
    "small_ratings = small_ratings.fillna(0)\n",
    "\n",
    "# Tính toán độ tương đồng giữa các người dùng\n",
    "user_similarity = cosine_similarity(small_ratings)\n",
    "print(user_similarity)"
   ]
  }
 ],
 "metadata": {
  "kernelspec": {
   "display_name": ".venv",
   "language": "python",
   "name": "python3"
  },
  "language_info": {
   "codemirror_mode": {
    "name": "ipython",
    "version": 3
   },
   "file_extension": ".py",
   "mimetype": "text/x-python",
   "name": "python",
   "nbconvert_exporter": "python",
   "pygments_lexer": "ipython3",
   "version": "3.12.7"
  }
 },
 "nbformat": 4,
 "nbformat_minor": 2
}
