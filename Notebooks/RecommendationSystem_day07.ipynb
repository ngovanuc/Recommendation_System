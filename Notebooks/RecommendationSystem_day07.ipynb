{
 "cells": [
  {
   "cell_type": "markdown",
   "metadata": {},
   "source": [
    "## Ngày 7: Đánh giá Hệ thống Đề xuất\n",
    "Các chỉ số thường dùng: MAE, RMSE, Precision@k, Recall@k"
   ]
  },
  {
   "cell_type": "markdown",
   "metadata": {},
   "source": [
    "### Mục đích của việc đánh giá hệ thống\n",
    "- Xác định độ chính xác và hiệu quả của hệ thống, từ đó cải thiện các thuật toán gợi ý\n",
    "- Phân loại đánh giá:\n",
    "    + Offline Evailuation: Dùng các dữ liệu lịch sử và các chỉ số đo lường như MAE, RMSE, Precission@K, Recall@K, F1-score, NDCG...\n",
    "    + Online Evaluation: Sử dụng A/B testing hoặc các phương pháp trực tuyến để đo lường sự hài lòng của người dùng khi sử dụng hệ thống\n",
    "\n",
    "### Các chỉ số đánh giá quan trọng\n",
    "- Đối với bài toán Rating Prediction (Dự đoán điểm số):\n",
    "    + MAE: Trung bình sai số tuyệt đối giữa giá trị dự đoán và giá trị thực\n",
    "    + RMSE: Căn bậc hai của trung bình phương sai số, nhấn mạnh các sai lệnh lớn hơn\n",
    "- Đối với bài taons Top-K Recommendation (Gợi ý sản phẩm):\n",
    "    + Precission@K: Tỉ lệ các sản phẩm gợi ý đúng trên tổng số sản phẩm gợi ý\n",
    "    + Recall@K: Tỉ lệ các sản phẩm gợi ý đúng trên tổng số sản phẩm người dùng thực sự thích\n",
    "    + F1-score: Trung bình điều hòa của Precission và Recall\n",
    "    + NDCG: Đo lường mức độ hiệu quả của danh sách gợi ý có thứ tự (ranking) dựa trên vị trí của các sản phẩm đúng"
   ]
  },
  {
   "cell_type": "markdown",
   "metadata": {},
   "source": [
    "### Ví dụ thực hành với Code: Đánh giá RMSE\n",
    "Giả sử ta có giá trị rating y_true và các giá trị dự đoán y_pred, ta có thể tính RMSE như sau:"
   ]
  },
  {
   "cell_type": "code",
   "execution_count": 1,
   "metadata": {},
   "outputs": [],
   "source": [
    "import numpy as np\n",
    "from sklearn.metrics import mean_squared_error\n",
    "from math import sqrt\n",
    "\n",
    "# Vi du duw lieu thuc te va du doan\n",
    "y_true = [3, 4, 5, 2, 1]\n",
    "y_pred = [2.5, 4, 5, 3, 1.5]\n",
    "\n",
    "# Tinh MSE\n",
    "mse = mean_squared_error(y_true, y_pred)\n",
    "# Tinh RMSE\n",
    "rmse = sqrt(mse)\n",
    "# => RMSE càng nhỏ cho thấy mô hình dự đoán càng chính xác"
   ]
  },
  {
   "cell_type": "markdown",
   "metadata": {},
   "source": [
    "- Chọn đúng chỉ số: Tùy theo bài toán và mục tiêu của hệ thống, nên chọn chỉ số phù hợp để đánh giá. Ví dụ nếu quan tâm đến việc xếp hạng, NDCG và Precission@K có thể phù hợp hơn.\n",
    "- Offline và Online: Đừng quên kết hợp đánh giá offline và online để có cái nhìn toàn diện. Offline giúp đánh giá mô hình trên dữ liệu lịch sử, trong khi online phản ánh trải nghiệm thực tế của người dùng\n",
    "- Theo doi theo thời gian: Hệ thống đề xuất có thể thay đổi theo thời gian (model drift), nên việc theo dõi và cập nhật các chỉ số định kỳ là cần thiết\n",
    "    "
   ]
  },
  {
   "cell_type": "markdown",
   "metadata": {},
   "source": [
    "### Thực hành trên bộ dữ liệu MovieLens"
   ]
  },
  {
   "cell_type": "code",
   "execution_count": null,
   "metadata": {},
   "outputs": [],
   "source": [
    "import pandas as pd\n",
    "import numpy as np\n",
    "from sklearn.model_selection import train_test_split\n",
    "from sklearn.metrics import mean_squered_error\n",
    "from sklearn.metrics.pairwise import consine_similarity\n",
    "from math import sqrt\n",
    "\n",
    "# Load data\n",
    "ratings = pd.read_csv(\"../Datasets/MovieLens/ratings.csv\")\n",
    "ratings.head()"
   ]
  },
  {
   "cell_type": "code",
   "execution_count": null,
   "metadata": {},
   "outputs": [],
   "source": [
    "# Preprcessing data\n",
    "# Xóa các bản ghi trùng lặp\n",
    "ratings.drop_duplicates(inplace=True)\n",
    "\n",
    "# Chuyển đổi timestamp từ dạng số sang datetime (nếu cần)\n",
    "ratings['timestamp'] = pd.to_datetime(ratings['timestamp'], unit='s')\n",
    "ratings.infor()"
   ]
  },
  {
   "cell_type": "code",
   "execution_count": null,
   "metadata": {},
   "outputs": [],
   "source": [
    "# Chia dữ liệu thành tập huấn luyện và kiểm tra\n",
    "train_data, test_data = train_test_split(ratings, test_size=0.2, random_state=42)\n",
    "print(train_data.shape[0])\n",
    "print(test_data.shape[0])"
   ]
  },
  {
   "cell_type": "code",
   "execution_count": null,
   "metadata": {},
   "outputs": [],
   "source": [
    "# Tạo ma trận người dùng - phim từ dữ liệu huấn luyện\n",
    "train_matrix = train_data.pivot(index='userId', columns='movieId', values='rating')\n",
    "# Điền giá trị missing bằng 0\n",
    "train_matrix.fillna(0, inplace=True)\n",
    "print(train_matrix.head())"
   ]
  },
  {
   "cell_type": "code",
   "execution_count": null,
   "metadata": {},
   "outputs": [],
   "source": [
    "# Tính toán cóine similarity giữa các người dùng\n",
    "user_similarity = consine_similarity(train_matrix)\n",
    "user_similarity_df = pd.DataFrame(user_similarity, index=train_matrix.index, columns=train_matrix.index)\n",
    "user_similarity_df.head()"
   ]
  },
  {
   "cell_type": "code",
   "execution_count": null,
   "metadata": {},
   "outputs": [],
   "source": [
    "# Hàm dự đoán raing cho một cặp user và movie dựa trên user-user collaborative filtering\n",
    "def predict_rating(user_id, movie_id, train_matrix, user_similarity_df):\n",
    "    if movie_id not in train_matrix.columns:\n",
    "        # Không thể dự đoán nếu movie không có trong dữ liệu huấn luyện\n",
    "        return np.nan\n",
    "    # Lấy độ tương đồng của user_id trên ma trận huấn luyện\n",
    "    sim_scores = user_similarity_df[user_id]\n",
    "    # Lấy cột rating của movie_id trên ma trận huấn luyện\n",
    "    movie_ratings = train_matrix[movie_id]\n",
    "    # Chỉ xét những ngưởi dùng đã đánh giá movie (rating > 0)\n",
    "    mask = movie_ratings > 0\n",
    "    if mask.sum() == 0:\n",
    "        # Không có ai đánh giá movie này\n",
    "        return np.nan    \n",
    "    # Dự đoán rating theo công thức trọng số: tổng (similarity * rating) chia cho tổng similarity\n",
    "    numerator = (sim_scores[mask] * movie_ratings[mask]).sum()\n",
    "    denominator = np.abs(sim_scores[mask]).sum()\n",
    "    if denominator == 0:\n",
    "        return np.nan\n",
    "    return numerator/denominator"
   ]
  },
  {
   "cell_type": "code",
   "execution_count": null,
   "metadata": {},
   "outputs": [],
   "source": [
    "# Dự đoán rating cho mỗi cặp trong tập kiểm tra và tính RMSE\n",
    "predictions = []\n",
    "actuals = []\n",
    "\n",
    "for index, row in test_data.iterrows():\n",
    "    user = row['userId']\n",
    "    movie = row['movieId']\n",
    "    actual_rating = row['rating']\n",
    "    pred = predict_rating(user, movie, train_matrix, user_similarity_df)\n",
    "    # Nếu không thể dự đoán được, sử dụng trung bình rating của dữ liệu huấn luyện\n",
    "    if np.isnan(pred):\n",
    "        pred = train_data['rating'].mean()\n",
    "    predictions.append(pred)\n",
    "    actuals.append(actual_rating)\n",
    "\n",
    "rmse = sqrt(mean_squared_error(actuals, predictions))\n",
    "print(rmse)"
   ]
  }
 ],
 "metadata": {
  "kernelspec": {
   "display_name": ".venv",
   "language": "python",
   "name": "python3"
  },
  "language_info": {
   "codemirror_mode": {
    "name": "ipython",
    "version": 3
   },
   "file_extension": ".py",
   "mimetype": "text/x-python",
   "name": "python",
   "nbconvert_exporter": "python",
   "pygments_lexer": "ipython3",
   "version": "3.12.7"
  }
 },
 "nbformat": 4,
 "nbformat_minor": 2
}
